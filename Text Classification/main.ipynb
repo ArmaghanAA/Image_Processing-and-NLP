{
  "cells": [
    {
      "cell_type": "code",
      "execution_count": 1,
      "metadata": {
        "id": "jbC7UFR25HEm"
      },
      "outputs": [],
      "source": [
        "import numpy as np\n",
        "import pandas as pd\n",
        "import matplotlib.pyplot as plt\n",
        "plt.style.use('ggplot')\n",
        "import seaborn as sns\n",
        "# !pip install nltk\n",
        "# !pip install wordcloud"
      ]
    },
    {
      "cell_type": "code",
      "execution_count": 2,
      "metadata": {
        "id": "UlzH9CFN5VkK"
      },
      "outputs": [],
      "source": [
        "import warnings\n",
        "warnings.filterwarnings(\"ignore\")\n",
        "import nltk\n",
        "import re\n",
        "from nltk.corpus import stopwords\n",
        "from nltk.stem import WordNetLemmatizer    # lemmatize\n",
        "from wordcloud import WordCloud, STOPWORDS\n",
        "import string\n",
        "import json"
      ]
    },
    {
      "cell_type": "code",
      "execution_count": 3,
      "metadata": {
        "id": "2u-eNeD65a9a"
      },
      "outputs": [],
      "source": [
        "from sklearn.model_selection import train_test_split\n",
        "random_state=42\n",
        "import os\n",
        "import csv\n",
        "import tensorflow as tf\n",
        "from tensorflow.keras.preprocessing.text import Tokenizer, tokenizer_from_json\n",
        "from tensorflow.keras.preprocessing.sequence import pad_sequences\n"
      ]
    },
    {
      "cell_type": "code",
      "execution_count": 4,
      "metadata": {
        "colab": {
          "base_uri": "https://localhost:8080/"
        },
        "id": "pDZbnKmQwIS6",
        "outputId": "165a703a-d5f6-43ce-cefc-b6c180540b26"
      },
      "outputs": [
        {
          "output_type": "stream",
          "name": "stderr",
          "text": [
            "[nltk_data] Downloading package stopwords to /root/nltk_data...\n",
            "[nltk_data]   Unzipping corpora/stopwords.zip.\n",
            "[nltk_data] Downloading package wordnet to /root/nltk_data...\n"
          ]
        }
      ],
      "source": [
        "nltk.download('stopwords')\n",
        "nltk.download('wordnet')\n",
        "\n",
        "stopwords_manual = [\"a\", \"about\", \"above\", \"after\", \"again\", \"against\", \"all\", \"am\", \"an\", \"and\", \"any\", \"are\", \"as\", \"at\", \"be\", \"because\", \"been\", \"before\", \"being\", \"below\", \"between\", \"both\", \"but\", \"by\", \"could\", \"did\", \"do\", \"does\", \"doing\", \"down\", \"during\", \"each\", \"few\", \"for\", \"from\", \"further\", \"had\", \"has\", \"have\", \"having\", \"he\", \"he'd\", \"he'll\", \"he's\", \"her\", \"here\", \"here's\", \"hers\", \"herself\", \"him\", \"himself\", \"his\", \"how\", \"how's\", \"i\", \"i'd\", \"i'll\", \"i'm\", \"i've\", \"if\", \"in\", \"into\", \"is\", \"it\", \"it's\", \"its\", \"itself\", \"let's\", \"me\", \"more\", \"most\", \"my\", \"myself\", \"nor\", \"of\", \"on\", \"once\", \"only\", \"or\", \"other\", \"ought\", \"our\", \"ours\", \"ourselves\", \"out\", \"over\", \"own\", \"same\", \"she\", \"she'd\", \"she'll\", \"she's\", \"should\", \"so\", \"some\", \"such\", \"than\", \"that\", \"that's\", \"the\", \"their\", \"theirs\", \"them\", \"themselves\", \"then\", \"there\", \"there's\", \"these\", \"they\", \"they'd\", \"they'll\", \"they're\", \"they've\", \"this\", \"those\", \"through\", \"to\", \"too\", \"under\", \"until\", \"up\", \"very\", \"was\", \"we\", \"we'd\", \"we'll\", \"we're\", \"we've\", \"were\", \"what\", \"what's\", \"when\", \"when's\", \"where\", \"where's\", \"which\", \"while\", \"who\", \"who's\", \"whom\", \"why\", \"why's\", \"with\", \"would\", \"you\", \"you'd\", \"you'll\", \"you're\", \"you've\", \"your\", \"yours\", \"yourself\", \"yourselves\" ]\n",
        "STOP_WORDS = stopwords.words('english')\n",
        "# STOP_WORDS = STOP_WORDS + stopwords_manual\n",
        "\n",
        "stopwords = set(STOP_WORDS)\n",
        "stopwords.add(\"said\")\n",
        "stopwords.add(\"br\")\n",
        "stopwords.remove(\"not\")\n",
        "stopwords.remove(\"no\")\n",
        "stopwords.add(\" \")\n",
        "# len(stopwords)"
      ]
    },
    {
      "cell_type": "code",
      "source": [
        "model_name='my_model.h5'\n",
        "tokenizer_model= 'tokenizer_model.json'"
      ],
      "metadata": {
        "id": "fGKe82K3Vzk-"
      },
      "execution_count": 5,
      "outputs": []
    },
    {
      "cell_type": "markdown",
      "metadata": {
        "id": "wmxu_b5y5yGE"
      },
      "source": [
        "## PreProcess and Tokenization functions"
      ]
    },
    {
      "cell_type": "code",
      "execution_count": 6,
      "metadata": {
        "id": "zeVdxexT54lJ"
      },
      "outputs": [],
      "source": [
        "###-------------------------------- preprocessing text ------------------------------###\n",
        "\n",
        "# Expanding Constractions\n",
        "\n",
        "def text_preprocess(x):\n",
        "    x = str(x).lower()\n",
        "    x = x.replace('%',' percent').replace('₹',' rupee').replace('$',' dollar').replace('€',' euro')\\\n",
        "                                .replace(',000,000','m').replace('000','k').replace('′',\"'\").replace(\"’\",\"'\")\\\n",
        "                                .replace(\"won't\",\"will not\").replace(\"can't\",'can not').replace(\"shouldn't\",\"should not\")\\\n",
        "                                .replace(\"what's\",'\"what is\"').replace(\"that's\",'that is').replace(\"he's\",\"he is\")\\\n",
        "                                .replace(\"she's\",\"she is\").replace(\"it's\",\"it is\").replace(\"'ve\",\" have\").replace(\"'re\",\" are\")\\\n",
        "                                .replace(\"'ll\",\" will\").replace(\"i'm\",\"i am\").replace(\"n't\", \" not\")\n",
        "    x = re.sub(r'([0-9]+)000000',r'\\1m',x)\n",
        "    x = re.sub(r'([0-9]+)000',r'\\1k',x)\n",
        "\n",
        "    return x\n",
        "\n",
        "def extract_features(df):\n",
        "    df['Summary'] = df['Summary'].fillna(\"\").apply(text_preprocess)\n",
        "\n",
        "    return df\n",
        "\n",
        "# Removal of URLs\n",
        "\n",
        "def remove_urls(text):\n",
        "\n",
        "    url_pattern = re.compile(r'https?://\\S+|www\\.\\S+')\n",
        "\n",
        "    return url_pattern.sub(r'', text)\n",
        "\n",
        "# Removal of HTML tags\n",
        "\n",
        "def remove_html(text):\n",
        "\n",
        "    html_pattern = re.compile('<.*?>')\n",
        "\n",
        "    return html_pattern.sub(r'', text)\n",
        "\n",
        "# Spiliting words\n",
        "\n",
        "def word_tokenize(txt):\n",
        "\n",
        "    tokens = re.findall(\"[\\w']+\", txt)\n",
        "\n",
        "    return tokens\n",
        "\n",
        "# Removal Stopwords\n",
        "\n",
        "def remove_stopwords(lst):\n",
        "\n",
        "    stop=stopwords\n",
        "    new_lst=[]\n",
        "    for i in lst:\n",
        "\n",
        "        if i not in stop:\n",
        "            new_lst.append(i)\n",
        "\n",
        "    return new_lst\n",
        "\n",
        "def remove_extrawords(lst):\n",
        "\n",
        "    stop=['href','lt','gt','ii','iii','ie','quot','com','U']   ## This all words are most repeated words as we observed in WordCloud and it does not make any sense\n",
        "    new_lst=[]\n",
        "    for i in lst:\n",
        "        if i not in stop:\n",
        "            new_lst.append(i)\n",
        "\n",
        "    return new_lst\n",
        "\n",
        "# Removal of punctuations\n",
        "\n",
        "def remove_punctuations(lst):\n",
        "    new_lst=[]\n",
        "    for i in lst:\n",
        "        for j in  string.punctuation:\n",
        "            i=i.replace(j,'')\n",
        "        new_lst.append(i)\n",
        "    return new_lst\n",
        "\n",
        "# Removal of Numbers\n",
        "\n",
        "def remove_numbers(lst):\n",
        "    nodig_lst=[]\n",
        "    new_lst=[]\n",
        "\n",
        "    for i in  lst:\n",
        "        for j in  string.digits:\n",
        "            i=i.replace(j,'')\n",
        "        nodig_lst.append(i)\n",
        "    for i in  nodig_lst:\n",
        "        if  i!='':\n",
        "            new_lst.append(i)\n",
        "    return new_lst\n",
        "\n",
        "# Lemmatzation of Data\n",
        "\n",
        "lemmatizer = WordNetLemmatizer()\n",
        "def lemmatzation(lst):\n",
        "    new_lst=[]\n",
        "    for i in lst:\n",
        "        i=lemmatizer.lemmatize(i)\n",
        "        new_lst.append(i)\n",
        "    return new_lst\n",
        "\n",
        "##--------------------------------------------------------------------##\n",
        "def preprocess(df):\n",
        "\n",
        "  # data\n",
        "  if 'Summary' not in list(df.columns):\n",
        "    df['Summary'] = df['Headline'] + ' ' + df['Description']\n",
        "    df.drop(columns=['Headline', 'Description'],inplace=True)\n",
        "    df.rename(columns={'Class Index':'Labels'},inplace=True)\n",
        "\n",
        "  # Extract Features\n",
        "  df = extract_features(df)\n",
        "\n",
        "  # URLs\n",
        "  df.Summary=df.Summary.apply(remove_urls)\n",
        "\n",
        "  # HTML tags\n",
        "  df.Summary=df.Summary.apply(remove_html)\n",
        "\n",
        "  # Split word\n",
        "  df.Summary=df.Summary.apply(word_tokenize)\n",
        "\n",
        "  # Stopwords & Extrawords\n",
        "  df.Summary=df.Summary.apply(remove_stopwords)\n",
        "  df.Summary=df.Summary.apply(remove_extrawords)\n",
        "\n",
        "  # Punctuation symbols\n",
        "  df.Summary=df.Summary.apply(remove_punctuations)\n",
        "\n",
        "  # Numbers\n",
        "  df.Summary=df.Summary.apply(remove_numbers)\n",
        "\n",
        "  # Lemmatzation\n",
        "  df.Summary=df.Summary.apply(lemmatzation)\n",
        "\n",
        "  # label\n",
        "  cat={'politics':0, 'sport':1, 'business':2, 'tech':3}\n",
        "  df['Labels'] = df['Labels'].apply(lambda x : cat[x])\n",
        "\n",
        "  # split into X, y\n",
        "  X_df=df['Summary']\n",
        "  y_df=df['Labels']\n",
        "\n",
        "  print(\"token features...\")\n",
        "\n",
        "\n",
        "  return df,X_df,y_df\n"
      ]
    },
    {
      "cell_type": "code",
      "execution_count": 7,
      "metadata": {
        "id": "7PsMiO-Z6erG"
      },
      "outputs": [],
      "source": [
        "#----------------------X-----------------------\n",
        "#tokenizing\n",
        "\n",
        "def fit_tokenizer(data_sentences, num_words, oov_token):\n",
        "    # instantiate the Tokenizer class\n",
        "    tokenizer = Tokenizer(num_words=num_words, oov_token=oov_token)\n",
        "\n",
        "    # fit the tokenizer to the training sentences\n",
        "    tokenizer.fit_on_texts(data_sentences)\n",
        "\n",
        "    return tokenizer\n",
        "\n",
        "# sequence & padding\n",
        "\n",
        "def seq_and_pad(sentences, tokenizer, padding, maxlen):\n",
        "    # convert training sentences to sequences\n",
        "    sequences = tokenizer.texts_to_sequences(sentences)\n",
        "\n",
        "    # pad the sequences using the correct padding and maxlen\n",
        "    padded_sequences = pad_sequences(sequences,\n",
        "                                     maxlen=maxlen,\n",
        "                                     padding=padding,\n",
        "                                     truncating='post')\n",
        "\n",
        "    return padded_sequences\n",
        "\n"
      ]
    },
    {
      "cell_type": "markdown",
      "metadata": {
        "id": "mJ6tLSNDwITA"
      },
      "source": [
        "## Setting hyperparameters"
      ]
    },
    {
      "cell_type": "code",
      "execution_count": 8,
      "metadata": {
        "id": "VnNsYXsawITC"
      },
      "outputs": [],
      "source": [
        "# the maximum number of words to keep, based on word frequency\n",
        "NUM_WORDS = 20000\n",
        "\n",
        "# dimension of the dense embedding that will be used in the embedding layer of the model\n",
        "EMBEDDING_DIM = 16\n",
        "\n",
        "# maximum length of all sequences\n",
        "MAXLEN = 40\n",
        "\n",
        "# padding strategy\n",
        "PADDING = 'post'\n",
        "\n",
        "# token to replace out-of-vocabulary words during text_to_sequence() calls\n",
        "OOV_TOKEN = \"<OOV>\"\n"
      ]
    },
    {
      "cell_type": "markdown",
      "metadata": {
        "id": "KkAyAVWX5drE"
      },
      "source": [
        "## Load Model"
      ]
    },
    {
      "cell_type": "code",
      "execution_count": 9,
      "metadata": {
        "id": "zRzAJ-G35f99",
        "colab": {
          "base_uri": "https://localhost:8080/"
        },
        "outputId": "b5438950-94a7-4628-8010-84182c2f748a"
      },
      "outputs": [
        {
          "output_type": "stream",
          "name": "stdout",
          "text": [
            "Model: \"sequential\"\n",
            "_________________________________________________________________\n",
            " Layer (type)                Output Shape              Param #   \n",
            "=================================================================\n",
            " embedding (Embedding)       (None, 40, 16)            320000    \n",
            "                                                                 \n",
            " bidirectional (Bidirection  (None, 40, 64)            12544     \n",
            " al)                                                             \n",
            "                                                                 \n",
            " bidirectional_1 (Bidirecti  (None, 32)                10368     \n",
            " onal)                                                           \n",
            "                                                                 \n",
            " dense (Dense)               (None, 4)                 132       \n",
            "                                                                 \n",
            "=================================================================\n",
            "Total params: 343044 (1.31 MB)\n",
            "Trainable params: 343044 (1.31 MB)\n",
            "Non-trainable params: 0 (0.00 Byte)\n",
            "_________________________________________________________________\n"
          ]
        }
      ],
      "source": [
        "model = tf.keras.models.load_model(model_name)\n",
        "model.summary()"
      ]
    },
    {
      "cell_type": "markdown",
      "metadata": {
        "id": "L202v_jI5pxJ"
      },
      "source": [
        "## Load Dataset"
      ]
    },
    {
      "cell_type": "code",
      "execution_count": 11,
      "metadata": {
        "id": "Ms19j7zj5n2o"
      },
      "outputs": [],
      "source": [
        "# test=pd.read_csv('./test_edited.csv')\n",
        "test=pd.read_csv('./test.csv')\n",
        "\n"
      ]
    },
    {
      "cell_type": "markdown",
      "metadata": {
        "id": "ldaCnHu66OOI"
      },
      "source": [
        "## Preprocess and tokinze data"
      ]
    },
    {
      "cell_type": "code",
      "execution_count": 12,
      "metadata": {
        "id": "7YqZfW5K6Rnz",
        "colab": {
          "base_uri": "https://localhost:8080/"
        },
        "outputId": "e0026031-31ba-457a-b59a-f5d2442c84e4"
      },
      "outputs": [
        {
          "output_type": "stream",
          "name": "stdout",
          "text": [
            "token features...\n",
            "Number of words in the test vocabulary: 56718\n",
            "\n",
            "Shape of padded testing sequences: (7600, 40)\n",
            "\n"
          ]
        }
      ],
      "source": [
        "test_df,X_test_df,y_test_df=preprocess(test)\n",
        "\n",
        "# fit the Tokenizer for the test dataset\n",
        "\n",
        "# Load training tokenizer\n",
        "with open(tokenizer_model) as f:\n",
        "   tt = json.load(f)\n",
        "\n",
        "# tokenizer = tokenizer_from_json('saved_tokenizer.json')\n",
        "tokenizer = tokenizer_from_json(tt)\n",
        "\n",
        "# get word_index\n",
        "test_word_index = tokenizer.word_index\n",
        "\n",
        "X_test = seq_and_pad(X_test_df, tokenizer, PADDING, MAXLEN)\n",
        "y_test=y_test_df\n",
        "\n",
        "print(f\"Number of words in the test vocabulary: {len(test_word_index)}\\n\")\n",
        "print(f\"Shape of padded testing sequences: {X_test.shape}\\n\")\n"
      ]
    },
    {
      "cell_type": "markdown",
      "metadata": {
        "id": "ZGcECLBz69-Q"
      },
      "source": [
        "## Prediction"
      ]
    },
    {
      "cell_type": "code",
      "execution_count": 13,
      "metadata": {
        "id": "eR-zOi0h6_gW",
        "scrolled": true,
        "colab": {
          "base_uri": "https://localhost:8080/"
        },
        "outputId": "f5626799-d234-4f7b-afc6-0528153e3da3"
      },
      "outputs": [
        {
          "output_type": "stream",
          "name": "stdout",
          "text": [
            "238/238 [==============================] - 5s 13ms/step\n",
            "Predicted classes:\n",
            "\n",
            " [2 3 3 ... 1 2 2]\n"
          ]
        }
      ],
      "source": [
        "# make predictions (categories) on the test data\n",
        "y_pred = model.predict(X_test)\n",
        "\n",
        "# Get the class with the highest probability for each input sentence\n",
        "predicted_classes = y_pred.argmax(axis=1)\n",
        "print(f'Predicted classes:\\n\\n {predicted_classes}')\n"
      ]
    },
    {
      "cell_type": "markdown",
      "metadata": {
        "id": "8-ZWKWCo7KwK"
      },
      "source": [
        "## reports"
      ]
    },
    {
      "cell_type": "code",
      "execution_count": 14,
      "metadata": {
        "id": "uQQSuO6l7MfX",
        "colab": {
          "base_uri": "https://localhost:8080/",
          "height": 662
        },
        "outputId": "dd6fc8a2-ee96-4172-8bf2-d5b4776092ec"
      },
      "outputs": [
        {
          "output_type": "stream",
          "name": "stdout",
          "text": [
            "238/238 [==============================] - 6s 13ms/step - loss: 0.3317 - accuracy: 0.9022\n",
            "Test Loss: 0.3317, Test Accuracy: 0.9022\n",
            "              precision    recall  f1-score   support\n",
            "\n",
            "           0       0.91      0.89      0.90      1900\n",
            "           1       0.95      0.96      0.96      1900\n",
            "           2       0.87      0.88      0.87      1900\n",
            "           3       0.87      0.88      0.88      1900\n",
            "\n",
            "    accuracy                           0.90      7600\n",
            "   macro avg       0.90      0.90      0.90      7600\n",
            "weighted avg       0.90      0.90      0.90      7600\n",
            "\n"
          ]
        },
        {
          "output_type": "display_data",
          "data": {
            "text/plain": [
              "<Figure size 640x480 with 2 Axes>"
            ],
            "image/png": "[encoded data removed]"
          },
          "metadata": {}
        }
      ],
      "source": [
        "from sklearn.metrics import confusion_matrix, classification_report\n",
        "\n",
        "loss, accuracy = model.evaluate(X_test, y_test)\n",
        "print(f\"Test Loss: {loss:.4f}, Test Accuracy: {accuracy:.4f}\")\n",
        "\n",
        "cm = confusion_matrix(y_test.values, predicted_classes)\n",
        "sns.heatmap(cm, annot=True)\n",
        "plt.savefig('confusion.png')\n",
        "\n",
        "print(classification_report(y_test, predicted_classes))"
      ]
    }
  ],
  "metadata": {
    "colab": {
      "provenance": []
    },
    "kernelspec": {
      "display_name": "Python 3 (ipykernel)",
      "language": "python",
      "name": "python3"
    },
    "language_info": {
      "codemirror_mode": {
        "name": "ipython",
        "version": 3
      },
      "file_extension": ".py",
      "mimetype": "text/x-python",
      "name": "python",
      "nbconvert_exporter": "python",
      "pygments_lexer": "ipython3",
      "version": "3.8.10"
    }
  },
  "nbformat": 4,
  "nbformat_minor": 0
}